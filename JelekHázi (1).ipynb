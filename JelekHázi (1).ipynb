{
 "cells": [
  {
   "cell_type": "code",
   "execution_count": 53,
   "metadata": {},
   "outputs": [
    {
     "name": "stdout",
     "output_type": "stream",
     "text": [
      " k|u[k]|  x1[k]   |  x2[k]   |   x3[k]  |   y[k]\n",
      "__|____|__________|__________|__________|_________\n",
      " 0|   1|  0.000000|  0.000000|  0.000000| -0.300000\n",
      " 1|   0| -0.600000| -0.120000|  0.900000| -0.300000\n",
      " 2|   0| -0.528000| -0.225600|  0.000000|  0.336000\n",
      " 3|   0| -0.392640| -0.184128|  0.000000| -0.460320\n",
      " 4|   0| -0.282163| -0.134961|  0.000000| -0.337402\n",
      " 5|   0| -0.201187| -0.096670|  0.000000| -0.241675\n",
      " 6|   0| -0.143185| -0.068874|  0.000000| -0.172186\n",
      " 7|   0| -0.101860| -0.049009|  0.000000| -0.122523\n",
      " 8|   0| -0.072455| -0.034863|  0.000000| -0.087158\n",
      " 9|   0| -0.051537| -0.024798|  0.000000| -0.061996\n",
      "10|   0| -0.036658| -0.017639|  0.000000| -0.044098\n"
     ]
    },
    {
     "data": {
      "image/png": "[encoded data removed]",
      "text/plain": [
       "<matplotlib.figure.Figure at 0x1e18b01ce80>"
      ]
     },
     "metadata": {},
     "output_type": "display_data"
    }
   ],
   "source": [
    "#1.3 impulzus válasz meghatározása,ábrázolása\n",
    "import matplotlib.pyplot as plt\n",
    "\n",
    "u=[1,0,0,0,0,0,0,0,0,0,0];\n",
    "x1=[0,0,0,0,0,0,0,0,0,0,0];\n",
    "x2=[0,0,0,0,0,0,0,0,0,0,0];\n",
    "x3=[0,0,0,0,0,0,0,0,0,0,0];\n",
    "y=[0,0,0,0,0,0,0,0,0,0,0];\n",
    "a=-0.6;\n",
    "b=0.5;\n",
    "c=0.2;\n",
    "d=0.9;\n",
    "for i in range(11):\n",
    "    if(i==0):\n",
    "        x1[0]=x2[0]=x3[0]=0;\n",
    "        y[0]=b*a;\n",
    "        print(' k|u[k]|  x1[k]   |  x2[k]   |   x3[k]  |   y[k]')\n",
    "        print('__|____|__________|__________|__________|_________')\n",
    "    else:\n",
    "        x1[i] = x1[i - 1] + a * x2[i - 1] + a * u[i - 1];\n",
    "        x2[i] = 2*c * x1[i - 1] + a * c * x2[i - 1] + a * c * u[i - 1];\n",
    "        x3[i] = d * u[i - 1];\n",
    "        y[i] = 2 * b * x1[i- 1] + b * a * x2[i - 1] + x3[i - 1] + b * a * u[i - 1];\n",
    "    print('{0:2d}|{1:4d}|{2:10f}|{3:10f}|{4:10f}|{5:10f}'.format(i,u[i],x1[i],x2[i],x3[i],y[i]))\n",
    "markerline, stemlines, baseline=plt.stem(range(11),y,'-');\n",
    "plt.ylabel('h[k]');\n",
    "plt.xlabel('k');\n",
    "plt.setp(baseline, color='k', linewidth=1)\n",
    "plt.show()"
   ]
  },
  {
   "cell_type": "code",
   "execution_count": 57,
   "metadata": {},
   "outputs": [
    {
     "data": {
      "text/plain": [
       "array([-0.84      , -0.99      ,  0.0083    , -2.10610433, -1.23537684,\n",
       "       -2.80020749, -0.73664087, -1.70824361, -1.36800837, -0.86923814,\n",
       "       -0.19897746])"
      ]
     },
     "execution_count": 57,
     "metadata": {},
     "output_type": "execute_result"
    }
   ],
   "source": [
    "#1.4 válasz meghatorázsa diszkrét konvolúcióval\n",
    "import numpy as np\n",
    "\n",
    "F=1.6;\n",
    "G=1.2;\n",
    "p=-11/12;\n",
    "uk=[2.8,0,0,0,0,0];\n",
    "for i in range(1,6):\n",
    "    uk[i]=F+G*(p**(i));\n",
    "hk=[y[0] ,y[1], y[2], y[3], y[4], y[5]];\n",
    "np.convolve(uk,hk)"
   ]
  },
  {
   "cell_type": "code",
   "execution_count": null,
   "metadata": {},
   "outputs": [],
   "source": []
  }
 ],
 "metadata": {
  "kernelspec": {
   "display_name": "Python 3",
   "language": "python",
   "name": "python3"
  },
  "language_info": {
   "codemirror_mode": {
    "name": "ipython",
    "version": 3
   },
   "file_extension": ".py",
   "mimetype": "text/x-python",
   "name": "python",
   "nbconvert_exporter": "python",
   "pygments_lexer": "ipython3",
   "version": "3.6.4"
  }
 },
 "nbformat": 4,
 "nbformat_minor": 2
}
